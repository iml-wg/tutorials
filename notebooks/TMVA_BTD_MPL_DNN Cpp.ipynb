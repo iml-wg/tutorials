{
 "cells": [
  {
   "cell_type": "markdown",
   "metadata": {},
   "source": [
    "<img src=\"http://oproject.org/img/ROOT.png\" height=\"30%\" width=\"30%\">\n",
    "<img src=\"http://oproject.org/img/tmvalogo.png\" height=\"30%\" width=\"30%\">"
   ]
  },
  {
   "cell_type": "markdown",
   "metadata": {},
   "source": [
    "<hr style=\"border-top-width: 4px; border-top-color: #34609b;\">"
   ]
  },
  {
   "cell_type": "markdown",
   "metadata": {},
   "source": [
    "# DNN Example"
   ]
  },
  {
   "cell_type": "markdown",
   "metadata": {},
   "source": [
    "## I/O"
   ]
  },
  {
   "cell_type": "code",
   "execution_count": null,
   "metadata": {},
   "outputs": [],
   "source": [
    "TFile* inputFile = TFile::Open(\"data/inputdata.root\");\n",
    "TFile* outputFile = TFile::Open(\"TMVAOutput.root\", \"RECREATE\");\n",
    "\n",
    "TMVA::Factory factory(\"TMVAClassification\", outputFile,\n",
    "                      \"!V:ROC:!Correlations:!Silent:Color:!DrawProgressBar:AnalysisType=Classification\" ); "
   ]
  },
  {
   "cell_type": "markdown",
   "metadata": {},
   "source": [
    "## Load Data and Features"
   ]
  },
  {
   "cell_type": "code",
   "execution_count": null,
   "metadata": {},
   "outputs": [],
   "source": [
    "TMVA::DataLoader loader(\"dataset_dnn\");\n",
    "\n",
    "loader.AddVariable(\"var1\");\n",
    "loader.AddVariable(\"var2\");\n",
    "loader.AddVariable(\"var3\");\n",
    "loader.AddVariable(\"var4\");"
   ]
  },
  {
   "cell_type": "markdown",
   "metadata": {},
   "source": [
    "## Setup Dataset"
   ]
  },
  {
   "cell_type": "code",
   "execution_count": null,
   "metadata": {},
   "outputs": [],
   "source": [
    "TTree *tsignal = (TTree*) inputFile->Get(\"Sig\");\n",
    "TTree *tbackground = (TTree*) inputFile->Get(\"Bkg\");\n",
    "\n",
    "loader.AddSignalTree(tsignal);\n",
    "loader.AddBackgroundTree(tbackground);\n",
    "loader.PrepareTrainingAndTestTree(\"\",\n",
    "        \"nTrain_Signal=1000:nTrain_Background=1000:SplitMode=Random:NormMode=NumEvents:!V\"); "
   ]
  },
  {
   "cell_type": "markdown",
   "metadata": {},
   "source": [
    "## Configure Dense Deep Network"
   ]
  },
  {
   "cell_type": "code",
   "execution_count": null,
   "metadata": {},
   "outputs": [],
   "source": [
    "// Network layout\n",
    "TString inputLayoutString = \"InputLayout=1|1|4\"; \n",
    "TString batchLayoutString = \"BatchLayout=1|128|4\";\n",
    "\n",
    "TString layoutString (\"Layout=DENSE|32|RELU,DENSE|32|RELU,DENSE|32|RELU,DENSE|32|RELU,DENSE|1|LINEAR\");\n",
    "\n",
    "// Training strategy\n",
    "TString training1(      \"LearningRate=1e-3,Momentum=0.9,Repetitions=1,\"\n",
    "                        \"ConvergenceSteps=20,BatchSize=128,TestRepetitions=1,\"\n",
    "                        \"MaxEpochs=20,WeightDecay=1e-4,Regularization=L2,\"\n",
    "                        \"Optimizer=ADAM,DropConfig=0.0+0.0+0.0+0.\");\n",
    "  \n",
    "TString trainingStrategyString (\"TrainingStrategy=\");\n",
    "trainingStrategyString += training1; // + \"|\" + training2 + \"|\" + training3;\n",
    "\n",
    "// Options.                                                                                                                                                                \n",
    "TString dnnOptions (\"!H:V:ErrorStrategy=CROSSENTROPY:VarTransform=None:\"\n",
    "                          \"WeightInitialization=XAVIERUNIFORM\");\n",
    "dnnOptions.Append (\":\"); dnnOptions.Append (inputLayoutString);\n",
    "dnnOptions.Append (\":\"); dnnOptions.Append (batchLayoutString);\n",
    "dnnOptions.Append (\":\"); dnnOptions.Append (layoutString);\n",
    "dnnOptions.Append (\":\"); dnnOptions.Append (trainingStrategyString);\n",
    "\n",
    "dnnOptions += \":Architecture=Standard\";"
   ]
  },
  {
   "cell_type": "markdown",
   "metadata": {},
   "source": [
    "## Define Algorithms"
   ]
  },
  {
   "cell_type": "code",
   "execution_count": null,
   "metadata": {},
   "outputs": [],
   "source": [
    "// Multi-Layer Perceptron (Shallow Neural Network)\n",
    "factory.BookMethod(&loader, TMVA::Types::kMLP, \"MLP\",\n",
    "        \"!H:!V:NeuronType=tanh:VarTransform=N:NCycles=10:HiddenLayers=N+5:TestRate=5:!UseRegulator\");\n",
    "\n",
    "// Boosted Decision Trees (BDT)\n",
    "factory.BookMethod(&loader, TMVA::Types::kBDT, \"BDT\",\n",
    "                           \"!H:!V:NTrees=850:MinNodeSize=2.5%:MaxDepth=3:BoostType=AdaBoost:AdaBoostBeta=0.5:UseBaggedBoost:BaggedSampleFraction=0.5:SeparationType=GiniIndex:nCuts=20\" );\n",
    "\n",
    "// Dense Deep Network \n",
    "factory.BookMethod(&loader, TMVA::Types::kDL, \"DL_DENSE\", dnnOptions);\n",
    "\n"
   ]
  },
  {
   "cell_type": "markdown",
   "metadata": {},
   "source": [
    "## Train All Algorithms"
   ]
  },
  {
   "cell_type": "code",
   "execution_count": null,
   "metadata": {},
   "outputs": [],
   "source": [
    "factory.TrainAllMethods();"
   ]
  },
  {
   "cell_type": "markdown",
   "metadata": {},
   "source": [
    "## Test/Evaluate Algorithms"
   ]
  },
  {
   "cell_type": "code",
   "execution_count": null,
   "metadata": {},
   "outputs": [],
   "source": [
    "factory.TestAllMethods();\n",
    "factory.EvaluateAllMethods();    "
   ]
  },
  {
   "cell_type": "markdown",
   "metadata": {},
   "source": [
    "## Plot ROC Curve"
   ]
  },
  {
   "cell_type": "code",
   "execution_count": null,
   "metadata": {},
   "outputs": [],
   "source": [
    "%jsroot on"
   ]
  },
  {
   "cell_type": "code",
   "execution_count": null,
   "metadata": {
    "scrolled": true
   },
   "outputs": [],
   "source": [
    "auto c2 = factory.GetROCCurve(&loader);\n",
    "c2->Draw();"
   ]
  },
  {
   "cell_type": "code",
   "execution_count": null,
   "metadata": {},
   "outputs": [],
   "source": [
    "outputFile->cd(\"dataset_dnn/Method_MLP/MLP/\");\n",
    "TCanvas cmlp;\n",
    "MVA_MLP_Train_B->SetLineColor(632);\n",
    "MVA_MLP_Train_S->SetTitle(\"MLP Sig vs Bkg separation\");\n",
    "MVA_MLP_Train_S->Draw(\"HIST\");\n",
    "MVA_MLP_Train_B->Draw(\"HIST SAME\");\n",
    "cmlp.Draw()"
   ]
  },
  {
   "cell_type": "code",
   "execution_count": null,
   "metadata": {},
   "outputs": [],
   "source": [
    "outputFile->Close();"
   ]
  }
 ],
 "metadata": {
  "kernelspec": {
   "display_name": "ROOT C++",
   "language": "c++",
   "name": "root"
  },
  "language_info": {
   "codemirror_mode": "text/x-c++src",
   "file_extension": ".C",
   "mimetype": " text/x-c++src",
   "name": "c++"
  }
 },
 "nbformat": 4,
 "nbformat_minor": 1
}
