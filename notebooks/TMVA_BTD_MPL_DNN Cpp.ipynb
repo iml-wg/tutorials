{
 "cells": [
  {
   "cell_type": "markdown",
   "metadata": {},
   "source": [
    "<img src=\"http://oproject.org/img/ROOT.png\" height=\"30%\" width=\"30%\">\n",
    "<img src=\"http://oproject.org/img/tmvalogo.png\" height=\"30%\" width=\"30%\">"
   ]
  },
  {
   "cell_type": "markdown",
   "metadata": {},
   "source": [
    "<hr style=\"border-top-width: 4px; border-top-color: #34609b;\">"
   ]
  },
  {
   "cell_type": "markdown",
   "metadata": {},
   "source": [
    "# DNN Example"
   ]
  },
  {
   "cell_type": "markdown",
   "metadata": {},
   "source": [
    "## Declare Factory"
   ]
  },
  {
   "cell_type": "code",
   "execution_count": 1,
   "metadata": {},
   "outputs": [],
   "source": [
    "TFile* inputFile = TFile::Open(\"inputdata.root\");\n",
    "TFile* outputFile = TFile::Open(\"TMVAOutput.root\", \"RECREATE\");\n",
    "\n",
    "TMVA::Factory factory(\"TMVAClassification\", outputFile,\n",
    "                      \"!V:ROC:!Correlations:!Silent:Color:!DrawProgressBar:AnalysisType=Classification\" ); "
   ]
  },
  {
   "cell_type": "markdown",
   "metadata": {},
   "source": [
    "## Declare DataLoader"
   ]
  },
  {
   "cell_type": "code",
   "execution_count": 2,
   "metadata": {},
   "outputs": [],
   "source": [
    "TMVA::DataLoader loader(\"dataset_dnn\");\n",
    "\n",
    "loader.AddVariable(\"var1\");\n",
    "loader.AddVariable(\"var2\");\n",
    "loader.AddVariable(\"var3\");\n",
    "loader.AddVariable(\"var4\");"
   ]
  },
  {
   "cell_type": "markdown",
   "metadata": {},
   "source": [
    "## Setup Dataset(s)"
   ]
  },
  {
   "cell_type": "code",
   "execution_count": 3,
   "metadata": {},
   "outputs": [
    {
     "name": "stdout",
     "output_type": "stream",
     "text": [
      "DataSetInfo              : [dataset_dnn] : Added class \"Signal\"\n",
      "                         : Add Tree Sig of type Signal with 6000 events\n",
      "DataSetInfo              : [dataset_dnn] : Added class \"Background\"\n",
      "                         : Add Tree Bkg of type Background with 6000 events\n",
      "                         : Dataset[dataset_dnn] : Class index : 0  name : Signal\n",
      "                         : Dataset[dataset_dnn] : Class index : 1  name : Background\n"
     ]
    }
   ],
   "source": [
    "TTree *tsignal = (TTree*) inputFile->Get(\"Sig\");\n",
    "TTree *tbackground = (TTree*) inputFile->Get(\"Bkg\");\n",
    "\n",
    "loader.AddSignalTree(tsignal);\n",
    "loader.AddBackgroundTree(tbackground);\n",
    "loader.PrepareTrainingAndTestTree(\"\",\n",
    "        \"nTrain_Signal=1000:nTrain_Background=1000:SplitMode=Random:NormMode=NumEvents:!V\"); "
   ]
  },
  {
   "cell_type": "markdown",
   "metadata": {},
   "source": [
    "# Configure network layout "
   ]
  },
  {
   "cell_type": "code",
   "execution_count": 4,
   "metadata": {},
   "outputs": [],
   "source": [
    "// General layout\n",
    "TString inputLayoutString = \"InputLayout=1|1|4\"; \n",
    "TString batchLayoutString= \"BatchLayout=1|128|4\";\n",
    "TString layoutString (\"Layout=DENSE|32|RELU,DENSE|32|RELU,DENSE|32|RELU,DENSE|32|RELU,DENSE|1|LINEAR\");\n",
    "\n",
    "// Training strategies \n",
    "// one can catenate several training strategies \n",
    "TString training1(\"LearningRate=1e-3,Momentum=0.9,Repetitions=1,\"\n",
    "                        \"ConvergenceSteps=20,BatchSize=128,TestRepetitions=1,\"\n",
    "                        \"MaxEpochs=20,WeightDecay=1e-4,Regularization=L2,\"\n",
    "                        \"Optimizer=ADAM,DropConfig=0.0+0.0+0.0+0.\");\n",
    "  \n",
    "TString trainingStrategyString (\"TrainingStrategy=\");\n",
    "trainingStrategyString += training1; // + \"|\" + training2 + \"|\" + training3;\n",
    "\n",
    "// General Options.                                                                                                                                                                \n",
    "TString dnnOptions (\"!H:V:ErrorStrategy=CROSSENTROPY:VarTransform=None:\"\n",
    "                          \"WeightInitialization=XAVIERUNIFORM\");\n",
    "dnnOptions.Append (\":\"); dnnOptions.Append (inputLayoutString);\n",
    "dnnOptions.Append (\":\"); dnnOptions.Append (batchLayoutString);\n",
    "dnnOptions.Append (\":\"); dnnOptions.Append (layoutString);\n",
    "dnnOptions.Append (\":\"); dnnOptions.Append (trainingStrategyString);\n",
    "\n",
    "dnnOptions += \":Architecture=Standard\";"
   ]
  },
  {
   "cell_type": "markdown",
   "metadata": {},
   "source": [
    "# Booking Methods"
   ]
  },
  {
   "cell_type": "code",
   "execution_count": 5,
   "metadata": {},
   "outputs": [
    {
     "name": "stdout",
     "output_type": "stream",
     "text": [
      "Factory                  : Booking method: \u001b[1mMLP\u001b[0m\n",
      "                         : \n",
      "MLP                      : [dataset_dnn] : Create Transformation \"N\" with events from all classes.\n",
      "                         : \n",
      "                         : Transformation, Variable selection : \n",
      "                         : Input : variable 'var1' <---> Output : variable 'var1'\n",
      "                         : Input : variable 'var2' <---> Output : variable 'var2'\n",
      "                         : Input : variable 'var3' <---> Output : variable 'var3'\n",
      "                         : Input : variable 'var4' <---> Output : variable 'var4'\n",
      "MLP                      : Building Network. \n",
      "                         : Initializing weights\n",
      "Factory                  : Booking method: \u001b[1mBDT\u001b[0m\n",
      "                         : \n",
      "DataSetFactory           : [dataset_dnn] : Number of events in input trees\n",
      "                         : \n",
      "                         : \n",
      "                         : Number of training and testing events\n",
      "                         : ---------------------------------------------------------------------------\n",
      "                         : Signal     -- training events            : 1000\n",
      "                         : Signal     -- testing events             : 5000\n",
      "                         : Signal     -- training and testing events: 6000\n",
      "                         : Background -- training events            : 1000\n",
      "                         : Background -- testing events             : 5000\n",
      "                         : Background -- training and testing events: 6000\n",
      "                         : \n",
      "DataSetInfo              : Correlation matrix (Signal):\n",
      "                         : ----------------------------------------\n",
      "                         :             var1    var2    var3    var4\n",
      "                         :    var1:  +1.000  +0.386  +0.597  +0.808\n",
      "                         :    var2:  +0.386  +1.000  +0.696  +0.743\n",
      "                         :    var3:  +0.597  +0.696  +1.000  +0.860\n",
      "                         :    var4:  +0.808  +0.743  +0.860  +1.000\n",
      "                         : ----------------------------------------\n",
      "DataSetInfo              : Correlation matrix (Background):\n",
      "                         : ----------------------------------------\n",
      "                         :             var1    var2    var3    var4\n",
      "                         :    var1:  +1.000  +0.856  +0.915  +0.964\n",
      "                         :    var2:  +0.856  +1.000  +0.927  +0.937\n",
      "                         :    var3:  +0.915  +0.927  +1.000  +0.971\n",
      "                         :    var4:  +0.964  +0.937  +0.971  +1.000\n",
      "                         : ----------------------------------------\n",
      "DataSetFactory           : [dataset_dnn] :  \n",
      "                         : \n",
      "Factory                  : Booking method: \u001b[1mDL_DENSE\u001b[0m\n",
      "                         : \n",
      "                         : Parsing option string: \n",
      "                         : ... \"!H:V:ErrorStrategy=CROSSENTROPY:VarTransform=None:WeightInitialization=XAVIERUNIFORM:InputLayout=1|1|4:BatchLayout=1|128|4:Layout=DENSE|32|RELU,DENSE|32|RELU,DENSE|32|RELU,DENSE|32|RELU,DENSE|1|LINEAR:TrainingStrategy=LearningRate=1e-3,Momentum=0.9,Repetitions=1,ConvergenceSteps=20,BatchSize=128,TestRepetitions=1,MaxEpochs=20,WeightDecay=1e-4,Regularization=L2,Optimizer=ADAM,DropConfig=0.0+0.0+0.0+0.:Architecture=Standard\"\n",
      "                         : The following options are set:\n",
      "                         : - By User:\n",
      "                         :     <none>\n",
      "                         : - Default:\n",
      "                         :     Boost_num: \"0\" [Number of times the classifier will be boosted]\n",
      "                         : Parsing option string: \n",
      "                         : ... \"!H:V:ErrorStrategy=CROSSENTROPY:VarTransform=None:WeightInitialization=XAVIERUNIFORM:InputLayout=1|1|4:BatchLayout=1|128|4:Layout=DENSE|32|RELU,DENSE|32|RELU,DENSE|32|RELU,DENSE|32|RELU,DENSE|1|LINEAR:TrainingStrategy=LearningRate=1e-3,Momentum=0.9,Repetitions=1,ConvergenceSteps=20,BatchSize=128,TestRepetitions=1,MaxEpochs=20,WeightDecay=1e-4,Regularization=L2,Optimizer=ADAM,DropConfig=0.0+0.0+0.0+0.:Architecture=Standard\"\n",
      "                         : The following options are set:\n",
      "                         : - By User:\n",
      "                         :     V: \"True\" [Verbose output (short form of \"VerbosityLevel\" below - overrides the latter one)]\n",
      "                         :     VarTransform: \"None\" [List of variable transformations performed before training, e.g., \"D_Background,P_Signal,G,N_AllClasses\" for: \"Decorrelation, PCA-transformation, Gaussianisation, Normalisation, each for the given class of events ('AllClasses' denotes all events of all classes, if no class indication is given, 'All' is assumed)\"]\n",
      "                         :     H: \"False\" [Print method-specific help message]\n",
      "                         :     InputLayout: \"1|1|4\" [The Layout of the input]\n",
      "                         :     BatchLayout: \"1|128|4\" [The Layout of the batch]\n",
      "                         :     Layout: \"DENSE|32|RELU,DENSE|32|RELU,DENSE|32|RELU,DENSE|32|RELU,DENSE|1|LINEAR\" [Layout of the network.]\n",
      "                         :     ErrorStrategy: \"CROSSENTROPY\" [Loss function: Mean squared error (regression) or cross entropy (binary classification).]\n",
      "                         :     WeightInitialization: \"XAVIERUNIFORM\" [Weight initialization strategy]\n",
      "                         :     Architecture: \"STANDARD\" [Which architecture to perform the training on.]\n",
      "                         :     TrainingStrategy: \"LearningRate=1e-3,Momentum=0.9,Repetitions=1,ConvergenceSteps=20,BatchSize=128,TestRepetitions=1,MaxEpochs=20,WeightDecay=1e-4,Regularization=L2,Optimizer=ADAM,DropConfig=0.0+0.0+0.0+0.\" [Defines the training strategies.]\n",
      "                         : - Default:\n",
      "                         :     VerbosityLevel: \"Default\" [Verbosity level]\n",
      "                         :     CreateMVAPdfs: \"False\" [Create PDFs for classifier outputs (signal and background)]\n",
      "                         :     IgnoreNegWeightsInTraining: \"False\" [Events with negative weights are ignored in the training (but are included for testing and performance evaluation)]\n",
      "                         :     RandomSeed: \"0\" [Random seed used for weight initialization and batch shuffling]\n",
      "                         : The STANDARD architecture has been deprecated. Please use Architecture=CPU or Architecture=CPU.See the TMVA Users' Guide for instructions if you encounter problems.\n",
      "                         : Will use the deprecated STANDARD architecture !\n"
     ]
    }
   ],
   "source": [
    "\n",
    "\n",
    "// Multi-Layer Perceptron (Neural Network)\n",
    "factory.BookMethod(&loader, TMVA::Types::kMLP, \"MLP\",\n",
    "        \"!H:!V:NeuronType=tanh:VarTransform=N:NCycles=10:HiddenLayers=N+5:TestRate=5:!UseRegulator\");\n",
    "\n",
    "// Adaptive Boost Trees\n",
    "factory.BookMethod(&loader, TMVA::Types::kBDT, \"BDT\",\n",
    "                           \"!H:!V:NTrees=850:MinNodeSize=2.5%:MaxDepth=3:BoostType=AdaBoost:AdaBoostBeta=0.5:UseBaggedBoost:BaggedSampleFraction=0.5:SeparationType=GiniIndex:nCuts=20\" );\n",
    "\n",
    "\n",
    "//Deep Neural Network\n",
    "factory.BookMethod(&loader, TMVA::Types::kDL, \"DL_DENSE\", dnnOptions);\n",
    "\n"
   ]
  },
  {
   "cell_type": "markdown",
   "metadata": {},
   "source": [
    "## Train Methods"
   ]
  },
  {
   "cell_type": "code",
   "execution_count": 6,
   "metadata": {},
   "outputs": [
    {
     "name": "stdout",
     "output_type": "stream",
     "text": [
      "Factory                  : \u001b[1mTrain all methods\u001b[0m\n",
      "Factory                  : [dataset_dnn] : Create Transformation \"I\" with events from all classes.\n",
      "                         : \n",
      "                         : Transformation, Variable selection : \n",
      "                         : Input : variable 'var1' <---> Output : variable 'var1'\n",
      "                         : Input : variable 'var2' <---> Output : variable 'var2'\n",
      "                         : Input : variable 'var3' <---> Output : variable 'var3'\n",
      "                         : Input : variable 'var4' <---> Output : variable 'var4'\n",
      "TFHandler_Factory        : Variable        Mean        RMS   [        Min        Max ]\n",
      "                         : -----------------------------------------------------------\n",
      "                         :     var1:   0.089202     1.6614   [    -4.9583     4.3390 ]\n",
      "                         :     var2:   0.094894     1.5721   [    -4.6474     3.9513 ]\n",
      "                         :     var3:    0.10454     1.7350   [    -5.0373     4.2785 ]\n",
      "                         :     var4:    0.27759     2.1519   [    -5.9505     4.6404 ]\n",
      "                         : -----------------------------------------------------------\n",
      "                         : Ranking input variables (method unspecific)...\n",
      "IdTransformation         : Ranking result (top variable is best ranked)\n",
      "                         : -----------------------------\n",
      "                         : Rank : Variable  : Separation\n",
      "                         : -----------------------------\n",
      "                         :    1 : var4      : 3.579e-01\n",
      "                         :    2 : var1      : 2.900e-01\n",
      "                         :    3 : var3      : 2.822e-01\n",
      "                         :    4 : var2      : 2.026e-01\n",
      "                         : -----------------------------\n",
      "Factory                  : Train method: MLP for Classification\n",
      "                         : \n",
      "TFHandler_MLP            : Variable        Mean        RMS   [        Min        Max ]\n",
      "                         : -----------------------------------------------------------\n",
      "                         :     var1:   0.085797    0.35739   [    -1.0000     1.0000 ]\n",
      "                         :     var2:    0.10303    0.36567   [    -1.0000     1.0000 ]\n",
      "                         :     var3:    0.10390    0.37248   [    -1.0000     1.0000 ]\n",
      "                         :     var4:    0.17613    0.40638   [    -1.0000     1.0000 ]\n",
      "                         : -----------------------------------------------------------\n",
      "                         : Training Network\n",
      "                         : \n",
      "                         : Elapsed time for training with 2000 events: 0.132 sec         \n",
      "MLP                      : [dataset_dnn] : Evaluation of MLP on training sample (2000 events)\n",
      "                         : Elapsed time for evaluation of 2000 events: 0.00289 sec       \n",
      "                         : Creating xml weight file: \u001b[0;36mdataset_dnn/weights/TMVAClassification_MLP.weights.xml\u001b[0m\n",
      "                         : Creating standalone class: \u001b[0;36mdataset_dnn/weights/TMVAClassification_MLP.class.C\u001b[0m\n",
      "                         : Write special histos to file: TMVAOutput.root:/dataset_dnn/Method_MLP/MLP\n",
      "Factory                  : Training finished\n",
      "                         : \n",
      "Factory                  : Train method: BDT for Classification\n",
      "                         : \n",
      "BDT                      : #events: (reweighted) sig: 1000 bkg: 1000\n",
      "                         : #events: (unweighted) sig: 1000 bkg: 1000\n",
      "                         : Training 850 Decision Trees ... patience please\n",
      "                         : Elapsed time for training with 2000 events: 18.4 sec         \n",
      "BDT                      : [dataset_dnn] : Evaluation of BDT on training sample (2000 events)\n",
      "                         : Elapsed time for evaluation of 2000 events: 0.236 sec       \n",
      "                         : Creating xml weight file: \u001b[0;36mdataset_dnn/weights/TMVAClassification_BDT.weights.xml\u001b[0m\n",
      "                         : Creating standalone class: \u001b[0;36mdataset_dnn/weights/TMVAClassification_BDT.class.C\u001b[0m\n",
      "Factory                  : Training finished\n",
      "                         : \n",
      "Factory                  : Train method: DL_DENSE for Classification\n",
      "                         : \n",
      "                         : Start of deep neural network training on the STANDARD architecture\n",
      "                         : \n",
      "                         : *****   Deep Learning Network *****\n",
      "DEEP NEURAL NETWORK:   Depth = 5  Input = ( 1, 1, 4 )  Batch size = 128  Loss function = C\n",
      "\tLayer 0\t DENSE Layer: \t  ( Input = 4 , Width = 32 ) \tOutput = ( 1 , 128 , 32 ) \t Activation Function = Relu\n",
      "\tLayer 1\t DENSE Layer: \t  ( Input = 32 , Width = 32 ) \tOutput = ( 1 , 128 , 32 ) \t Activation Function = Relu\n",
      "\tLayer 2\t DENSE Layer: \t  ( Input = 32 , Width = 32 ) \tOutput = ( 1 , 128 , 32 ) \t Activation Function = Relu\n",
      "\tLayer 3\t DENSE Layer: \t  ( Input = 32 , Width = 32 ) \tOutput = ( 1 , 128 , 32 ) \t Activation Function = Relu\n",
      "\tLayer 4\t DENSE Layer: \t  ( Input = 32 , Width = 1 ) \tOutput = ( 1 , 128 , 1 ) \t Activation Function = Identity\n",
      "                         : Training phase 1 of 1:    Learning rate = 0.001 regularization 2 minimum error = 0.767497\n",
      "                         : --------------------------------------------------------------\n",
      "                         :      Epoch |   Train Err.   Test Err.  t(s)/epoch   t(s)/Loss   nEvents/s Conv. Steps\n",
      "                         : --------------------------------------------------------------\n",
      "                         :          1 Minimum Test error found - save the configuration \n",
      "                         :          1 |     0.590851    0.589647    0.107557   0.0739007     57047.7           0\n",
      "                         :          2 Minimum Test error found - save the configuration \n",
      "                         :          2 |     0.487113    0.490126     0.11057   0.0743775     53049.9           0\n",
      "                         :          3 Minimum Test error found - save the configuration \n",
      "                         :          3 |     0.434556    0.443049    0.106949   0.0736873     57723.4           0\n",
      "                         :          4 Minimum Test error found - save the configuration \n",
      "                         :          4 |     0.411376    0.420994    0.106879   0.0736366     57756.7           0\n",
      "                         :          5 Minimum Test error found - save the configuration \n",
      "                         :          5 |     0.402482    0.411064     0.10687   0.0736075       57722           0\n",
      "                         :          6 Minimum Test error found - save the configuration \n",
      "                         :          6 |     0.386321    0.395393   0.0983718    0.065106     57717.1           0\n",
      "                         :          7 Minimum Test error found - save the configuration \n",
      "                         :          7 |     0.375384    0.386862   0.0807454   0.0557199     76721.6           0\n",
      "                         :          8 Minimum Test error found - save the configuration \n",
      "                         :          8 |     0.367667    0.380737   0.0818377   0.0564458     75614.9           0\n",
      "                         :          9 Minimum Test error found - save the configuration \n",
      "                         :          9 |     0.364664    0.376169   0.0803408   0.0553164     76725.4           0\n",
      "                         :         10 Minimum Test error found - save the configuration \n",
      "                         :         10 |     0.364073    0.376083   0.0809464   0.0554555     75321.1           0\n",
      "                         :         11 Minimum Test error found - save the configuration \n",
      "                         :         11 |     0.356963    0.369678   0.0808044   0.0555747     76100.9           0\n",
      "                         :         12 Minimum Test error found - save the configuration \n",
      "                         :         12 |     0.349869    0.365872   0.0863131   0.0564149       64218           0\n",
      "                         :         13 Minimum Test error found - save the configuration \n",
      "                         :         13 |     0.347933    0.364111   0.0807946   0.0557473     76655.2           0\n",
      "                         :         14 Minimum Test error found - save the configuration \n",
      "                         :         14 |     0.348487    0.361918   0.0806505   0.0554368     76148.8           0\n"
     ]
    },
    {
     "name": "stdout",
     "output_type": "stream",
     "text": [
      "                         :         15 |      0.34763    0.362363     0.08089   0.0553105       75060           1\n",
      "                         :         16 Minimum Test error found - save the configuration \n",
      "                         :         16 |     0.347304    0.358705   0.0809823   0.0556623     75829.4           0\n",
      "                         :         17 |     0.342784    0.360275   0.0807734   0.0558576     77059.5           1\n",
      "                         :         18 Minimum Test error found - save the configuration \n",
      "                         :         18 |     0.346654    0.357146   0.0808519   0.0558651     76840.6           0\n",
      "                         :         19 Minimum Test error found - save the configuration \n",
      "                         :         19 |      0.34186    0.355532   0.0802748   0.0552933     76856.9           0\n",
      "                         :         20 Minimum Test error found - save the configuration \n",
      "                         :         20 |     0.341311    0.354503   0.0816735   0.0562278     75454.9           0\n",
      "                         : \n",
      "                         : Elapsed time for training with 2000 events: 1.87 sec         \n",
      "                         : Evaluate deep neural network on the STANDARD architecture  using batches with size = 128\n",
      "                         : \n",
      "DL_DENSE                 : [dataset_dnn] : Evaluation of DL_DENSE on training sample (2000 events)\n",
      "                         : Elapsed time for evaluation of 2000 events: 0.0113 sec       \n",
      "                         : Creating xml weight file: \u001b[0;36mdataset_dnn/weights/TMVAClassification_DL_DENSE.weights.xml\u001b[0m\n",
      "                         : Creating standalone class: \u001b[0;36mdataset_dnn/weights/TMVAClassification_DL_DENSE.class.C\u001b[0m\n",
      "Factory                  : Training finished\n",
      "                         : \n",
      "                         : Ranking input variables (method specific)...\n",
      "MLP                      : Ranking result (top variable is best ranked)\n",
      "                         : -----------------------------\n",
      "                         : Rank : Variable  : Importance\n",
      "                         : -----------------------------\n",
      "                         :    1 : var4      : 4.881e+00\n",
      "                         :    2 : var1      : 3.192e+00\n",
      "                         :    3 : var2      : 1.113e+00\n",
      "                         :    4 : var3      : 1.103e+00\n",
      "                         : -----------------------------\n",
      "BDT                      : Ranking result (top variable is best ranked)\n",
      "                         : --------------------------------------\n",
      "                         : Rank : Variable  : Variable Importance\n",
      "                         : --------------------------------------\n",
      "                         :    1 : var4      : 2.881e-01\n",
      "                         :    2 : var1      : 2.549e-01\n",
      "                         :    3 : var2      : 2.287e-01\n",
      "                         :    4 : var3      : 2.284e-01\n",
      "                         : --------------------------------------\n",
      "                         : No variable ranking supplied by classifier: DL_DENSE\n",
      "Factory                  : === Destroy and recreate all methods via weight files for testing ===\n",
      "                         : \n",
      "                         : Reading weight file: \u001b[0;36mdataset_dnn/weights/TMVAClassification_MLP.weights.xml\u001b[0m\n",
      "MLP                      : Building Network. \n",
      "                         : Initializing weights\n",
      "                         : Reading weight file: \u001b[0;36mdataset_dnn/weights/TMVAClassification_BDT.weights.xml\u001b[0m\n",
      "                         : Reading weight file: \u001b[0;36mdataset_dnn/weights/TMVAClassification_DL_DENSE.weights.xml\u001b[0m\n"
     ]
    }
   ],
   "source": [
    "factory.TrainAllMethods();"
   ]
  },
  {
   "cell_type": "markdown",
   "metadata": {},
   "source": [
    "## Test and Evaluate Methods"
   ]
  },
  {
   "cell_type": "code",
   "execution_count": 7,
   "metadata": {},
   "outputs": [
    {
     "name": "stdout",
     "output_type": "stream",
     "text": [
      "Factory                  : \u001b[1mTest all methods\u001b[0m\n",
      "Factory                  : Test method: MLP for Classification performance\n",
      "                         : \n",
      "MLP                      : [dataset_dnn] : Evaluation of MLP on testing sample (10000 events)\n",
      "                         : Elapsed time for evaluation of 10000 events: 0.0249 sec       \n",
      "Factory                  : Test method: BDT for Classification performance\n",
      "                         : \n",
      "BDT                      : [dataset_dnn] : Evaluation of BDT on testing sample (10000 events)\n",
      "                         : Elapsed time for evaluation of 10000 events: 0.626 sec       \n",
      "Factory                  : Test method: DL_DENSE for Classification performance\n",
      "                         : \n",
      "                         : Evaluate deep neural network on the STANDARD architecture  using batches with size = 1000\n",
      "                         : \n",
      "DL_DENSE                 : [dataset_dnn] : Evaluation of DL_DENSE on testing sample (10000 events)\n",
      "                         : Elapsed time for evaluation of 10000 events: 0.0482 sec       \n",
      "Factory                  : \u001b[1mEvaluate all methods\u001b[0m\n",
      "Factory                  : Evaluate classifier: MLP\n",
      "                         : \n",
      "TFHandler_MLP            : Variable        Mean        RMS   [        Min        Max ]\n",
      "                         : -----------------------------------------------------------\n",
      "                         :     var1:   0.066765    0.35912   [    -1.2024     1.0914 ]\n",
      "                         :     var2:   0.079528    0.36674   [    -1.1391     1.2044 ]\n",
      "                         :     var3:   0.079166    0.37288   [    -1.0685     1.0783 ]\n",
      "                         :     var4:    0.15122    0.40807   [    -1.1921     1.0737 ]\n",
      "                         : -----------------------------------------------------------\n",
      "MLP                      : [dataset_dnn] : Loop over test events and fill histograms with classifier response...\n",
      "                         : \n",
      "TFHandler_MLP            : Variable        Mean        RMS   [        Min        Max ]\n",
      "                         : -----------------------------------------------------------\n",
      "                         :     var1:   0.066765    0.35912   [    -1.2024     1.0914 ]\n",
      "                         :     var2:   0.079528    0.36674   [    -1.1391     1.2044 ]\n",
      "                         :     var3:   0.079166    0.37288   [    -1.0685     1.0783 ]\n",
      "                         :     var4:    0.15122    0.40807   [    -1.1921     1.0737 ]\n",
      "                         : -----------------------------------------------------------\n",
      "Factory                  : Evaluate classifier: BDT\n",
      "                         : \n",
      "BDT                      : [dataset_dnn] : Loop over test events and fill histograms with classifier response...\n",
      "                         : \n",
      "TFHandler_BDT            : Variable        Mean        RMS   [        Min        Max ]\n",
      "                         : -----------------------------------------------------------\n",
      "                         :     var1: 0.00072931     1.6694   [    -5.8991     4.7639 ]\n",
      "                         :     var2: -0.0061638     1.5767   [    -5.2454     4.8300 ]\n",
      "                         :     var3:  -0.010676     1.7368   [    -5.3563     4.6430 ]\n",
      "                         :     var4:    0.14568     2.1609   [    -6.9675     5.0307 ]\n",
      "                         : -----------------------------------------------------------\n",
      "Factory                  : Evaluate classifier: DL_DENSE\n",
      "                         : \n",
      "DL_DENSE                 : [dataset_dnn] : Loop over test events and fill histograms with classifier response...\n",
      "                         : \n",
      "                         : Evaluate deep neural network on the STANDARD architecture  using batches with size = 1000\n",
      "                         : \n",
      "TFHandler_DL_DENSE       : Variable        Mean        RMS   [        Min        Max ]\n",
      "                         : -----------------------------------------------------------\n",
      "                         :     var1: 0.00072931     1.6694   [    -5.8991     4.7639 ]\n",
      "                         :     var2: -0.0061638     1.5767   [    -5.2454     4.8300 ]\n",
      "                         :     var3:  -0.010676     1.7368   [    -5.3563     4.6430 ]\n",
      "                         :     var4:    0.14568     2.1609   [    -6.9675     5.0307 ]\n",
      "                         : -----------------------------------------------------------\n",
      "                         : \n",
      "                         : Evaluation results ranked by best signal efficiency and purity (area)\n",
      "                         : -------------------------------------------------------------------------------------------------------------------\n",
      "                         : DataSet       MVA                       \n",
      "                         : Name:         Method:          ROC-integ\n",
      "                         : dataset_dnn   MLP            : 0.933\n",
      "                         : dataset_dnn   DL_DENSE       : 0.925\n",
      "                         : dataset_dnn   BDT            : 0.924\n",
      "                         : -------------------------------------------------------------------------------------------------------------------\n",
      "                         : \n",
      "                         : Testing efficiency compared to training efficiency (overtraining check)\n",
      "                         : -------------------------------------------------------------------------------------------------------------------\n",
      "                         : DataSet              MVA              Signal efficiency: from test sample (from training sample) \n",
      "                         : Name:                Method:          @B=0.01             @B=0.10            @B=0.30   \n",
      "                         : -------------------------------------------------------------------------------------------------------------------\n",
      "                         : dataset_dnn          MLP            : 0.342 (0.372)       0.783 (0.798)      0.958 (0.958)\n",
      "                         : dataset_dnn          DL_DENSE       : 0.302 (0.315)       0.747 (0.742)      0.950 (0.954)\n",
      "                         : dataset_dnn          BDT            : 0.310 (0.485)       0.756 (0.833)      0.942 (0.952)\n",
      "                         : -------------------------------------------------------------------------------------------------------------------\n",
      "                         : \n",
      "Dataset:dataset_dnn      : Created tree 'TestTree' with 10000 events\n",
      "                         : \n",
      "Dataset:dataset_dnn      : Created tree 'TrainTree' with 2000 events\n",
      "                         : \n",
      "Factory                  : \u001b[1mThank you for using TMVA!\u001b[0m\n",
      "                         : \u001b[1mFor citation information, please visit: http://tmva.sf.net/citeTMVA.html\u001b[0m\n"
     ]
    }
   ],
   "source": [
    "factory.TestAllMethods();\n",
    "factory.EvaluateAllMethods();    "
   ]
  },
  {
   "cell_type": "markdown",
   "metadata": {},
   "source": [
    "## Plot ROC Curve\n",
    "We enable JavaScript visualisation for the plots"
   ]
  },
  {
   "cell_type": "code",
   "execution_count": 8,
   "metadata": {},
   "outputs": [],
   "source": [
    "%jsroot on"
   ]
  },
  {
   "cell_type": "code",
   "execution_count": 9,
   "metadata": {
    "scrolled": true
   },
   "outputs": [
    {
     "data": {
      "image/png": "[encoded data removed]",
      "text/plain": [
       "<IPython.core.display.Image object>"
      ]
     },
     "metadata": {},
     "output_type": "display_data"
    }
   ],
   "source": [
    "auto c2 = factory.GetROCCurve(&loader);\n",
    "c2->Draw();"
   ]
  },
  {
   "cell_type": "code",
   "execution_count": null,
   "metadata": {},
   "outputs": [],
   "source": []
  }
 ],
 "metadata": {
  "kernelspec": {
   "display_name": "ROOT C++",
   "language": "c++",
   "name": "root"
  },
  "language_info": {
   "codemirror_mode": "text/x-c++src",
   "file_extension": ".C",
   "mimetype": " text/x-c++src",
   "name": "c++"
  }
 },
 "nbformat": 4,
 "nbformat_minor": 1
}
