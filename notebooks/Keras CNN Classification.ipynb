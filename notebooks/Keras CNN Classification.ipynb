{
 "cells": [
  {
   "cell_type": "markdown",
   "metadata": {},
   "source": [
    "<img src=\"https://i2.wp.com/www.ai-claudio.com/wp-content/uploads/2017/05/keras-tensorflow-logo.jpg?resize=500%2C201\"/>"
   ]
  },
  {
   "cell_type": "markdown",
   "metadata": {},
   "source": [
    "## Import required modules \n",
    "\n",
    "Install in swan the next dependencies running in the terminal\n",
    "\n",
    "pip install scikit-learn dask[array]"
   ]
  },
  {
   "cell_type": "code",
   "execution_count": 1,
   "metadata": {},
   "outputs": [
    {
     "name": "stderr",
     "output_type": "stream",
     "text": [
      "Using TensorFlow backend.\n"
     ]
    }
   ],
   "source": [
    "import numpy as np\n",
    "np.random.seed(1337)  # for reproducibility\n",
    "import h5py\n",
    "from keras.models import Sequential\n",
    "from keras.optimizers import Adam\n",
    "from keras.initializers import TruncatedNormal\n",
    "from keras.layers import Input, Dense, Dropout, Flatten, Conv2D, MaxPooling2D\n",
    "from keras.callbacks import ReduceLROnPlateau\n",
    "\n",
    "from sklearn.metrics import roc_curve, auc\n",
    "\n",
    "import matplotlib.pyplot as plt"
   ]
  },
  {
   "cell_type": "markdown",
   "metadata": {},
   "source": [
    "## Model Parameters\n",
    "lr_init=1.e-3    Initial learning rate.<br>\n",
    "batch_size=64   Batch size for gradient update during training.<br>\n",
    "train_size=320  Training size per decay. max 160000 <br>\n",
    "valid_size=44   Validation size per decay. max 44800 <br>\n",
    "test_size=44    Test size per decay. max 44200 <br>\n",
    "epochs=25 <br>\n",
    "doGPU=False     Enable GPU memory optimizations. Requires tensorflow-gpu with cudnn <br>\n"
   ]
  },
  {
   "cell_type": "code",
   "execution_count": 2,
   "metadata": {},
   "outputs": [],
   "source": [
    "lr_init=1.e-3\n",
    "batch_size=64\n",
    "train_size=320\n",
    "valid_size=44\n",
    "test_size=44\n",
    "epochs=25\n",
    "doGPU=False"
   ]
  },
  {
   "cell_type": "code",
   "execution_count": 3,
   "metadata": {},
   "outputs": [],
   "source": [
    "if doGPU:\n",
    "    import tensorflow as tf\n",
    "    from keras.backend.tensorflow_backend import set_session\n",
    "    config = tf.ConfigProto()\n",
    "    config.gpu_options.allow_growth=True\n",
    "    set_session(tf.Session(config=config))"
   ]
  },
  {
   "cell_type": "markdown",
   "metadata": {},
   "source": [
    "## Load Image Data"
   ]
  },
  {
   "cell_type": "code",
   "execution_count": 4,
   "metadata": {},
   "outputs": [],
   "source": [
    "### Load Image Data ###\n",
    "\n",
    "img_rows, img_cols, nb_channels = 32, 32, 2\n",
    "input_dir = 'IMG'\n",
    "decays = ['SinglePhotonPt50_IMGCROPS_n249k_RHv1', 'SingleElectronPt50_IMGCROPS_n249k_RHv1']\n",
    "\n",
    "def load_data(decays, start, stop):\n",
    "    global input_dir\n",
    "    dsets = [h5py.File('%s/%s.hdf5'%(input_dir,decay)) for decay in decays]\n",
    "    X = np.concatenate([dset['/X'][start:stop] for dset in dsets])\n",
    "    y = np.concatenate([dset['/y'][start:stop] for dset in dsets])\n",
    "    assert len(X) == len(y)\n",
    "    return X, y"
   ]
  },
  {
   "cell_type": "markdown",
   "metadata": {},
   "source": [
    "## Configure Training/Validation and Tests Set"
   ]
  },
  {
   "cell_type": "code",
   "execution_count": 5,
   "metadata": {},
   "outputs": [],
   "source": [
    "# Set range of training set\n",
    "train_start, train_stop = 0, train_size\n",
    "assert train_stop > train_start\n",
    "assert (len(decays)*train_size) % batch_size == 0\n",
    "X_train, y_train = load_data(decays,train_start,train_stop)\n",
    "\n",
    "# Set range of validation set\n",
    "valid_start, valid_stop = 160000, 160000+valid_size\n",
    "assert valid_stop  >  valid_start\n",
    "assert valid_start >= train_stop\n",
    "X_valid, y_valid = load_data(decays,valid_start,valid_stop)\n",
    "\n",
    "# Set range of test set\n",
    "test_start, test_stop = 204800, 204800+test_size\n",
    "assert test_stop  >  test_start\n",
    "assert test_start >= valid_stop\n",
    "X_test, y_test = load_data(decays,test_start,test_stop)\n",
    "\n",
    "samples_requested = len(decays) * (train_size + valid_size + test_size)\n",
    "samples_available = len(y_train) + len(y_valid) + len(y_test)\n",
    "assert samples_requested == samples_available\n"
   ]
  },
  {
   "cell_type": "markdown",
   "metadata": {},
   "source": [
    "## Plot  sample of training images"
   ]
  },
  {
   "cell_type": "code",
   "execution_count": 20,
   "metadata": {},
   "outputs": [
    {
     "data": {
      "image/png": "[encoded data removed]",
      "text/plain": [
       "<matplotlib.figure.Figure at 0x7f332c14fb10>"
      ]
     },
     "metadata": {},
     "output_type": "display_data"
    }
   ],
   "source": [
    "plt.figure(1)\n",
    "\n",
    "plt.subplot(221)\n",
    "plt.imshow(X_train[1,:,:,0])\n",
    "plt.title(\"Sample 1 Channel 1\")\n",
    "plt.grid(True)\n",
    "\n",
    "plt.subplot(222)\n",
    "plt.imshow(X_train[1,:,:,1])\n",
    "plt.title(\"Sample 1 Channel 2\")\n",
    "plt.grid(True)\n",
    "\n",
    "plt.subplot(223)\n",
    "plt.imshow(X_train[2,:,:,0])\n",
    "plt.title(\"Sample 2 Channel 1\")\n",
    "plt.grid(True)\n",
    "\n",
    "plt.subplot(224)\n",
    "plt.imshow(X_train[2,:,:,1])\n",
    "plt.title(\"Sample 2 Channel 2\")\n",
    "plt.grid(True)\n",
    "\n",
    "plt.show()"
   ]
  },
  {
   "cell_type": "markdown",
   "metadata": {},
   "source": [
    "## Define CNN Model"
   ]
  },
  {
   "cell_type": "code",
   "execution_count": 7,
   "metadata": {},
   "outputs": [
    {
     "name": "stdout",
     "output_type": "stream",
     "text": [
      "_________________________________________________________________\n",
      "Layer (type)                 Output Shape              Param #   \n",
      "=================================================================\n",
      "conv2d_1 (Conv2D)            (None, 32, 32, 16)        304       \n",
      "_________________________________________________________________\n",
      "conv2d_2 (Conv2D)            (None, 32, 32, 16)        2320      \n",
      "_________________________________________________________________\n",
      "max_pooling2d_1 (MaxPooling2 (None, 16, 16, 16)        0         \n",
      "_________________________________________________________________\n",
      "conv2d_3 (Conv2D)            (None, 16, 16, 32)        4640      \n",
      "_________________________________________________________________\n",
      "conv2d_4 (Conv2D)            (None, 16, 16, 32)        9248      \n",
      "_________________________________________________________________\n",
      "max_pooling2d_2 (MaxPooling2 (None, 8, 8, 32)          0         \n",
      "_________________________________________________________________\n",
      "flatten_1 (Flatten)          (None, 2048)              0         \n",
      "_________________________________________________________________\n",
      "dense_1 (Dense)              (None, 256)               524544    \n",
      "_________________________________________________________________\n",
      "dropout_1 (Dropout)          (None, 256)               0         \n",
      "_________________________________________________________________\n",
      "dense_2 (Dense)              (None, 128)               32896     \n",
      "_________________________________________________________________\n",
      "dropout_2 (Dropout)          (None, 128)               0         \n",
      "_________________________________________________________________\n",
      "dense_3 (Dense)              (None, 1)                 129       \n",
      "=================================================================\n",
      "Total params: 574,081\n",
      "Trainable params: 574,081\n",
      "Non-trainable params: 0\n",
      "_________________________________________________________________\n"
     ]
    }
   ],
   "source": [
    "### Define CNN Model ###\n",
    "\n",
    "model = Sequential()\n",
    "model.add(Conv2D(16, activation='relu', kernel_size=3, padding='same', kernel_initializer='TruncatedNormal', input_shape=(img_rows, img_cols, nb_channels)))\n",
    "model.add(Conv2D(16, activation='relu', kernel_size=3, padding='same', kernel_initializer='TruncatedNormal'))\n",
    "model.add(MaxPooling2D(pool_size=(2, 2)))\n",
    "model.add(Conv2D(32, activation='relu', kernel_size=3, padding='same', kernel_initializer='TruncatedNormal'))\n",
    "model.add(Conv2D(32, activation='relu', kernel_size=3, padding='same', kernel_initializer='TruncatedNormal'))\n",
    "model.add(MaxPooling2D(pool_size=(2, 2)))\n",
    "model.add(Flatten())\n",
    "model.add(Dense(256, activation='relu', kernel_initializer='TruncatedNormal'))\n",
    "model.add(Dropout(0.2))\n",
    "model.add(Dense(128, activation='relu', kernel_initializer='TruncatedNormal'))\n",
    "model.add(Dropout(0.2))\n",
    "model.add(Dense(1, activation='sigmoid', kernel_initializer='TruncatedNormal'))\n",
    "model.compile(loss='binary_crossentropy', optimizer=Adam(lr=lr_init), metrics=['accuracy'])\n",
    "model.summary()"
   ]
  },
  {
   "cell_type": "markdown",
   "metadata": {},
   "source": [
    "### Train the Model"
   ]
  },
  {
   "cell_type": "code",
   "execution_count": 11,
   "metadata": {},
   "outputs": [
    {
     "name": "stdout",
     "output_type": "stream",
     "text": [
      "Train on 640 samples, validate on 88 samples\n",
      "Epoch 1/25\n",
      "640/640 [==============================] - 8s 13ms/step - loss: 0.4780 - acc: 0.7797 - val_loss: 0.7246 - val_acc: 0.6250\n",
      "Epoch 2/25\n",
      "640/640 [==============================] - 8s 13ms/step - loss: 0.4772 - acc: 0.7734 - val_loss: 0.7247 - val_acc: 0.6250\n",
      "Epoch 3/25\n",
      "640/640 [==============================] - 8s 12ms/step - loss: 0.4823 - acc: 0.7750 - val_loss: 0.7248 - val_acc: 0.6250\n",
      "Epoch 4/25\n",
      "640/640 [==============================] - 8s 12ms/step - loss: 0.4853 - acc: 0.7719 - val_loss: 0.7250 - val_acc: 0.6250\n",
      "Epoch 5/25\n",
      "640/640 [==============================] - 8s 13ms/step - loss: 0.4825 - acc: 0.7703 - val_loss: 0.7249 - val_acc: 0.6250\n",
      "Epoch 6/25\n",
      "640/640 [==============================] - 8s 13ms/step - loss: 0.4823 - acc: 0.7797 - val_loss: 0.7250 - val_acc: 0.6250\n",
      "Epoch 7/25\n",
      "640/640 [==============================] - 8s 13ms/step - loss: 0.4829 - acc: 0.7750 - val_loss: 0.7251 - val_acc: 0.6250\n",
      "Epoch 8/25\n",
      "640/640 [==============================] - 8s 13ms/step - loss: 0.4924 - acc: 0.7734 - val_loss: 0.7252 - val_acc: 0.6250\n",
      "Epoch 9/25\n",
      "640/640 [==============================] - 8s 13ms/step - loss: 0.4915 - acc: 0.7703 - val_loss: 0.7252 - val_acc: 0.6250\n",
      "Epoch 10/25\n",
      "640/640 [==============================] - 8s 13ms/step - loss: 0.4829 - acc: 0.7672 - val_loss: 0.7252 - val_acc: 0.6250\n",
      "Epoch 11/25\n",
      "640/640 [==============================] - 8s 13ms/step - loss: 0.4740 - acc: 0.7734 - val_loss: 0.7253 - val_acc: 0.6250\n",
      "Epoch 12/25\n",
      "640/640 [==============================] - 8s 13ms/step - loss: 0.4892 - acc: 0.7797 - val_loss: 0.7253 - val_acc: 0.6250\n",
      "Epoch 13/25\n",
      "640/640 [==============================] - 8s 13ms/step - loss: 0.4807 - acc: 0.7750 - val_loss: 0.7254 - val_acc: 0.6250\n",
      "Epoch 14/25\n",
      "640/640 [==============================] - 8s 13ms/step - loss: 0.4801 - acc: 0.7719 - val_loss: 0.7255 - val_acc: 0.6250\n",
      "Epoch 15/25\n",
      "640/640 [==============================] - 8s 12ms/step - loss: 0.4822 - acc: 0.7625 - val_loss: 0.7256 - val_acc: 0.6250\n",
      "Epoch 16/25\n",
      "640/640 [==============================] - 8s 13ms/step - loss: 0.4838 - acc: 0.7766 - val_loss: 0.7256 - val_acc: 0.6250\n",
      "Epoch 17/25\n",
      "640/640 [==============================] - 8s 12ms/step - loss: 0.4824 - acc: 0.7828 - val_loss: 0.7257 - val_acc: 0.6250\n",
      "Epoch 18/25\n",
      "640/640 [==============================] - 8s 13ms/step - loss: 0.4886 - acc: 0.7766 - val_loss: 0.7257 - val_acc: 0.6250\n",
      "Epoch 19/25\n",
      "640/640 [==============================] - 8s 13ms/step - loss: 0.4846 - acc: 0.7766 - val_loss: 0.7258 - val_acc: 0.6250\n",
      "Epoch 20/25\n",
      "640/640 [==============================] - 8s 12ms/step - loss: 0.4973 - acc: 0.7688 - val_loss: 0.7258 - val_acc: 0.6250\n",
      "Epoch 21/25\n",
      "640/640 [==============================] - 8s 13ms/step - loss: 0.4798 - acc: 0.7781 - val_loss: 0.7258 - val_acc: 0.6250\n",
      "Epoch 22/25\n",
      "640/640 [==============================] - 8s 12ms/step - loss: 0.4827 - acc: 0.7688 - val_loss: 0.7259 - val_acc: 0.6250\n",
      "Epoch 23/25\n",
      "640/640 [==============================] - 8s 12ms/step - loss: 0.4842 - acc: 0.7781 - val_loss: 0.7260 - val_acc: 0.6250\n",
      "Epoch 24/25\n",
      "640/640 [==============================] - 8s 13ms/step - loss: 0.4895 - acc: 0.7688 - val_loss: 0.7260 - val_acc: 0.6250\n",
      "Epoch 25/25\n",
      "640/640 [==============================] - 8s 13ms/step - loss: 0.4815 - acc: 0.7703 - val_loss: 0.7261 - val_acc: 0.6250\n"
     ]
    }
   ],
   "source": [
    "### Train Model ###\n",
    "\n",
    "reduce_lr = ReduceLROnPlateau(monitor='val_loss', factor=0.2, patience=2, min_lr=1.e-6)\n",
    "history=model.fit(X_train, y_train,\\\n",
    "        batch_size=batch_size,\\\n",
    "        epochs=epochs,\\\n",
    "        validation_data=(X_valid, y_valid),\\\n",
    "        callbacks=[reduce_lr],\\\n",
    "        verbose=1, shuffle=True)"
   ]
  },
  {
   "cell_type": "markdown",
   "metadata": {},
   "source": [
    "### Evaluate The Model"
   ]
  },
  {
   "cell_type": "code",
   "execution_count": 13,
   "metadata": {},
   "outputs": [
    {
     "name": "stdout",
     "output_type": "stream",
     "text": [
      "88/88 [==============================] - 0s 4ms/step\n",
      "\n",
      "Validation loss / accuracy: 0.7261 / 0.6250\n",
      "('Validation ROC AUC:', 0.66632231404958675)\n",
      "88/88 [==============================] - 0s 4ms/step\n",
      "\n",
      "Test loss / accuracy: 0.8273 / 0.5114\n",
      "('Test ROC AUC:', 0.5449380165289256)\n"
     ]
    }
   ],
   "source": [
    "### Evaluate Model ###\n",
    "\n",
    "# Evaluate on validation set\n",
    "score = model.evaluate(X_valid, y_valid, verbose=1)\n",
    "print('\\nValidation loss / accuracy: %0.4f / %0.4f'%(score[0], score[1]))\n",
    "y_pred = model.predict(X_valid)\n",
    "fpr, tpr, _ = roc_curve(y_valid, y_pred)\n",
    "roc_auc = auc(fpr, tpr)\n",
    "print('Validation ROC AUC:', roc_auc)\n",
    "\n",
    "# Evaluate on test set\n",
    "score = model.evaluate(X_test, y_test, verbose=1)\n",
    "print('\\nTest loss / accuracy: %0.4f / %0.4f'%(score[0], score[1]))\n",
    "y_pred = model.predict(X_test)\n",
    "fpr, tpr, _ = roc_curve(y_test, y_pred)\n",
    "roc_auc = auc(fpr, tpr)\n",
    "print('Test ROC AUC:', roc_auc)"
   ]
  },
  {
   "cell_type": "code",
   "execution_count": 15,
   "metadata": {},
   "outputs": [
    {
     "data": {
      "image/png": "[encoded data removed]",
      "text/plain": [
       "<matplotlib.figure.Figure at 0x7f332c7f4610>"
      ]
     },
     "metadata": {},
     "output_type": "display_data"
    }
   ],
   "source": [
    "plt.plot([0, 1], [0, 1], 'k--')\n",
    "plt.legend(loc=2, prop={'size': 15})\n",
    "plt.plot(fpr, tpr, label='Proteus Model 1 (ROC-AUC = {:.3f})'.format(roc_auc))\n",
    "plt.xlabel('False positive rate')\n",
    "plt.ylabel('True positive rate')\n",
    "plt.title('ROC curve')\n",
    "plt.legend(loc='best')\n",
    "plt.show()"
   ]
  },
  {
   "cell_type": "code",
   "execution_count": null,
   "metadata": {},
   "outputs": [],
   "source": []
  }
 ],
 "metadata": {
  "kernelspec": {
   "display_name": "Python 2",
   "language": "python",
   "name": "python2"
  },
  "language_info": {
   "codemirror_mode": {
    "name": "ipython",
    "version": 3
   },
   "file_extension": ".py",
   "mimetype": "text/x-python",
   "name": "python",
   "nbconvert_exporter": "python",
   "pygments_lexer": "ipython3",
   "version": "3.5.3"
  }
 },
 "nbformat": 4,
 "nbformat_minor": 2
}
